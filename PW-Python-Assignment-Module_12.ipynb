{
 "cells": [
  {
   "cell_type": "markdown",
   "id": "9b6f3bc3",
   "metadata": {},
   "source": [
    "Q1. Explain Class and Object with respect to Object-Oriented Programming. Give a suitable example."
   ]
  },
  {
   "cell_type": "code",
   "execution_count": null,
   "id": "364c7637",
   "metadata": {},
   "outputs": [],
   "source": []
  },
  {
   "cell_type": "markdown",
   "id": "7d57531b",
   "metadata": {},
   "source": [
    "In object-oriented programming (OOP), a class is a blueprint for creating objects (instances) that share common attributes and behaviors. It serves as a template or a model for creating objects. A class defines the properties (attributes) and behaviors (methods) that all objects created from it will possess.\n",
    "\n",
    "An object, on the other hand, is an instance of a class. It is a concrete realization of the class blueprint, representing a specific entity with its own unique state (values of attributes) and behavior (methods)."
   ]
  },
  {
   "cell_type": "code",
   "execution_count": 1,
   "id": "17dd81c2",
   "metadata": {},
   "outputs": [
    {
     "name": "stdout",
     "output_type": "stream",
     "text": [
      "Toyota Camry 2021\n",
      "Tesla Model S 2022\n",
      "20\n",
      "30\n",
      "10\n",
      "15\n"
     ]
    }
   ],
   "source": [
    "class Car:\n",
    "    def __init__(self, make, model, year):\n",
    "        self.make = make\n",
    "        self.model = model\n",
    "        self.year = year\n",
    "        self.speed = 0  # Initial speed is 0\n",
    "        \n",
    "    def accelerate(self, increment):\n",
    "        self.speed += increment\n",
    "        \n",
    "    def brake(self, decrement):\n",
    "        self.speed -= decrement\n",
    "\n",
    "# Creating objects (instances) of the Car class\n",
    "car1 = Car(\"Toyota\", \"Camry\", 2021)\n",
    "car2 = Car(\"Tesla\", \"Model S\", 2022)\n",
    "\n",
    "# Accessing object attributes\n",
    "print(car1.make, car1.model, car1.year)  # Output: Toyota Camry 2021\n",
    "print(car2.make, car2.model, car2.year)  # Output: Tesla Model S 2022\n",
    "\n",
    "# Calling object methods\n",
    "car1.accelerate(20)\n",
    "car2.accelerate(30)\n",
    "print(car1.speed)  # Output: 20\n",
    "print(car2.speed)  # Output: 30\n",
    "\n",
    "car1.brake(10)\n",
    "car2.brake(15)\n",
    "print(car1.speed)  # Output: 10\n",
    "print(car2.speed)  # Output: 15\n"
   ]
  },
  {
   "cell_type": "markdown",
   "id": "61367ef9",
   "metadata": {},
   "source": [
    "Q2. Name the four pillars of OOPs."
   ]
  },
  {
   "cell_type": "code",
   "execution_count": null,
   "id": "8136eb86",
   "metadata": {},
   "outputs": [],
   "source": []
  },
  {
   "cell_type": "markdown",
   "id": "f45a71b8",
   "metadata": {},
   "source": [
    "The four pillars of object-oriented programming (OOP) are:\n",
    "\n",
    "1. **Encapsulation**:\n",
    "2. **Abstraction**: \n",
    "3. **Inheritance**: \n",
    "4. **Polymorphism**:\n"
   ]
  },
  {
   "cell_type": "markdown",
   "id": "9213e6d1",
   "metadata": {},
   "source": [
    "Q3. Explain why the `__init__()`  function is used. Give a suitable example."
   ]
  },
  {
   "cell_type": "code",
   "execution_count": null,
   "id": "ba626826",
   "metadata": {},
   "outputs": [],
   "source": []
  },
  {
   "cell_type": "markdown",
   "id": "1a57fbe3",
   "metadata": {},
   "source": [
    "The `__init__()` function in Python is a special method (also known as a constructor) that is automatically called when a new instance of a class is created. It is used to initialize the attributes of the object and perform any setup or initialization tasks that are necessary before the object can be used.\n",
    "\n",
    "Here's why the `__init__()` function is used:\n",
    "\n",
    "1. **Attribute Initialization**: The primary purpose of the `__init__()` function is to initialize the attributes (properties) of the object with initial values. This ensures that the object starts with a well-defined state.\n",
    "\n",
    "2. **Customization**: The `__init__()` function allows you to customize the initialization process by accepting arguments and setting initial attribute values based on these arguments. This makes it possible to create objects with different initial states.\n",
    "\n",
    "3. **Encapsulation**: By initializing attributes within the `__init__()` function, you encapsulate the initialization logic within the class definition, making it easier to understand and maintain.\n",
    "\n",
    "4. **Consistency**: Using the `__init__()` function ensures that every instance of the class is initialized in the same way, promoting consistency and predictability in object creation.\n"
   ]
  },
  {
   "cell_type": "code",
   "execution_count": 3,
   "id": "c239b614",
   "metadata": {},
   "outputs": [
    {
     "name": "stdout",
     "output_type": "stream",
     "text": [
      "Name: Rajeev\n",
      "Age: 30\n",
      "Name: Shivam\n",
      "Age: 25\n"
     ]
    }
   ],
   "source": [
    "class Person:\n",
    "    def __init__(self, name, age):\n",
    "        self.name = name\n",
    "        self.age = age\n",
    "        \n",
    "    def display_info(self):\n",
    "        print(\"Name:\", self.name)\n",
    "        print(\"Age:\", self.age)\n",
    "\n",
    "# Creating instances of the Person class\n",
    "person1 = Person(\"Rajeev\", 30)\n",
    "person2 = Person(\"Shivam\", 25)\n",
    "\n",
    "# Accessing object attributes and calling method\n",
    "person1.display_info()\n",
    "person2.display_info()\n"
   ]
  },
  {
   "cell_type": "markdown",
   "id": "92f50e12",
   "metadata": {},
   "source": [
    "Q4. Why self is used in OOPs?"
   ]
  },
  {
   "cell_type": "code",
   "execution_count": null,
   "id": "47702b72",
   "metadata": {},
   "outputs": [],
   "source": []
  },
  {
   "cell_type": "markdown",
   "id": "e5234422",
   "metadata": {},
   "source": [
    "In object-oriented programming (OOP), `self` is used as a reference to the current instance of a class. It allows objects to access their own attributes and methods within the class definition. The use of `self` is essential for maintaining object state, enabling instance-specific behavior, and ensuring proper interaction between objects and their methods.\n",
    "\n",
    "Here are some key reasons why `self` is used in OOP:\n",
    "\n",
    "1. **Accessing Instance Variables**: `self` is used to access and modify instance variables (attributes) of an object. It distinguishes between the instance variables of one object and another, allowing each object to maintain its own state.\n",
    "\n",
    "2. **Calling Object Methods**: `self` is used to call other methods of the same class from within a method. When a method is invoked on an object, `self` implicitly passes the object itself to the method, allowing it to manipulate the object's data or call its other methods.\n",
    "\n",
    "3. **Initializing Instance Variables**: In the `__init__()` method, `self` is used to initialize instance variables. It binds the attributes to the object when it is created, ensuring that each object has its own set of attributes.\n",
    "\n",
    "4. **Maintaining Object Identity**: `self` helps in maintaining the identity of an object by providing a reference to itself. This ensures that operations performed on one object do not affect other objects of the same class.\n",
    "\n",
    "5. **Enabling Polymorphism and Inheritance**: `self` plays a crucial role in implementing polymorphism and inheritance. It allows methods to be overridden in subclasses and ensures that the correct method is called based on the object's type at runtime.\n",
    "\n"
   ]
  },
  {
   "cell_type": "markdown",
   "id": "da34be2f",
   "metadata": {},
   "source": [
    "Q5. What is inheritance? Give an example for each type of inheritance."
   ]
  },
  {
   "cell_type": "code",
   "execution_count": null,
   "id": "d5bf941e",
   "metadata": {},
   "outputs": [],
   "source": []
  },
  {
   "cell_type": "markdown",
   "id": "e3d77aee",
   "metadata": {},
   "source": [
    "\n",
    "Inheritance is a fundamental concept in object-oriented programming (OOP) that allows a new class (called a subclass or derived class) to inherit properties and behaviors (attributes and methods) from an existing class (called a superclass or base class). It enables code reuse and the creation of a hierarchy of classes, where subclasses can extend or specialize the functionality of their superclass."
   ]
  },
  {
   "cell_type": "markdown",
   "id": "696881a1",
   "metadata": {},
   "source": [
    "1.Single Inheritance: In single inheritance, a subclass inherits from only one superclass. This is the simplest form of inheritance."
   ]
  },
  {
   "cell_type": "code",
   "execution_count": 4,
   "id": "8ac03c34",
   "metadata": {},
   "outputs": [
    {
     "name": "stdout",
     "output_type": "stream",
     "text": [
      "Animal speaks\n",
      "Dog barks\n"
     ]
    }
   ],
   "source": [
    "class Animal:\n",
    "    def speak(self):\n",
    "        print(\"Animal speaks\")\n",
    "\n",
    "class Dog(Animal):\n",
    "    def bark(self):\n",
    "        print(\"Dog barks\")\n",
    "\n",
    "# Dog inherits from Animal\n",
    "# Dog class inherits the speak() method from Animal\n",
    "dog = Dog()\n",
    "dog.speak()  # Output: Animal speaks\n",
    "dog.bark()   # Output: Dog barks\n"
   ]
  },
  {
   "cell_type": "markdown",
   "id": "d9109190",
   "metadata": {},
   "source": [
    "2.Multiple Inheritance: Multiple inheritance allows a subclass to inherit from multiple superclasses. This means that a subclass can have more than one direct superclass."
   ]
  },
  {
   "cell_type": "code",
   "execution_count": 5,
   "id": "d2b49880",
   "metadata": {},
   "outputs": [
    {
     "name": "stdout",
     "output_type": "stream",
     "text": [
      "Animal speaks\n",
      "Pet plays\n",
      "Dog barks\n"
     ]
    }
   ],
   "source": [
    "class Animal:\n",
    "    def speak(self):\n",
    "        print(\"Animal speaks\")\n",
    "\n",
    "class Pet:\n",
    "    def play(self):\n",
    "        print(\"Pet plays\")\n",
    "\n",
    "class Dog(Animal, Pet):\n",
    "    def bark(self):\n",
    "        print(\"Dog barks\")\n",
    "\n",
    "# Dog inherits from both Animal and Pet\n",
    "dog = Dog()\n",
    "dog.speak()  # Output: Animal speaks\n",
    "dog.play()   # Output: Pet plays\n",
    "dog.bark()   # Output: Dog barks\n"
   ]
  },
  {
   "cell_type": "markdown",
   "id": "3382088d",
   "metadata": {},
   "source": [
    "3.Multilevel Inheritance: In multilevel inheritance, a subclass inherits from a superclass, and then another subclass inherits from the derived subclass, forming a chain of inheritance."
   ]
  },
  {
   "cell_type": "code",
   "execution_count": 6,
   "id": "de77b1d1",
   "metadata": {},
   "outputs": [
    {
     "name": "stdout",
     "output_type": "stream",
     "text": [
      "Animal speaks\n",
      "Dog barks\n",
      "Puppy wags tail\n"
     ]
    }
   ],
   "source": [
    "class Animal:\n",
    "    def speak(self):\n",
    "        print(\"Animal speaks\")\n",
    "\n",
    "class Dog(Animal):\n",
    "    def bark(self):\n",
    "        print(\"Dog barks\")\n",
    "\n",
    "class Puppy(Dog):\n",
    "    def wag(self):\n",
    "        print(\"Puppy wags tail\")\n",
    "\n",
    "# Puppy inherits from Dog, which in turn inherits from Animal\n",
    "puppy = Puppy()\n",
    "puppy.speak()  # Output: Animal speaks\n",
    "puppy.bark()   # Output: Dog barks\n",
    "puppy.wag()    # Output: Puppy wags tail\n"
   ]
  },
  {
   "cell_type": "markdown",
   "id": "795704a3",
   "metadata": {},
   "source": [
    "4.Hierarchical Inheritance: In hierarchical inheritance, multiple subclasses inherit from the same superclass, creating a hierarchical structure."
   ]
  },
  {
   "cell_type": "code",
   "execution_count": 7,
   "id": "7ffce171",
   "metadata": {},
   "outputs": [
    {
     "name": "stdout",
     "output_type": "stream",
     "text": [
      "Animal speaks\n",
      "Dog barks\n",
      "Animal speaks\n",
      "Cat meows\n"
     ]
    }
   ],
   "source": [
    "class Animal:\n",
    "    def speak(self):\n",
    "        print(\"Animal speaks\")\n",
    "\n",
    "class Dog(Animal):\n",
    "    def bark(self):\n",
    "        print(\"Dog barks\")\n",
    "\n",
    "class Cat(Animal):\n",
    "    def meow(self):\n",
    "        print(\"Cat meows\")\n",
    "\n",
    "# Both Dog and Cat inherit from Animal\n",
    "dog = Dog()\n",
    "dog.speak()  # Output: Animal speaks\n",
    "dog.bark()   # Output: Dog barks\n",
    "\n",
    "cat = Cat()\n",
    "cat.speak()  # Output: Animal speaks\n",
    "cat.meow()   # Output: Cat meows\n"
   ]
  },
  {
   "cell_type": "code",
   "execution_count": null,
   "id": "aec786f4",
   "metadata": {},
   "outputs": [],
   "source": []
  }
 ],
 "metadata": {
  "kernelspec": {
   "display_name": "Python 3 (ipykernel)",
   "language": "python",
   "name": "python3"
  },
  "language_info": {
   "codemirror_mode": {
    "name": "ipython",
    "version": 3
   },
   "file_extension": ".py",
   "mimetype": "text/x-python",
   "name": "python",
   "nbconvert_exporter": "python",
   "pygments_lexer": "ipython3",
   "version": "3.9.12"
  }
 },
 "nbformat": 4,
 "nbformat_minor": 5
}
